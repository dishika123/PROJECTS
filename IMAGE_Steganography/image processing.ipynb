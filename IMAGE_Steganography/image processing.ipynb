{
 "cells": [
  {
   "cell_type": "code",
   "execution_count": null,
   "metadata": {},
   "outputs": [],
   "source": [
    "import numpy as np\n",
    "import time\n",
    "import cv2"
   ]
  },
  {
   "cell_type": "code",
   "execution_count": null,
   "metadata": {},
   "outputs": [],
   "source": [
    "def str_binary(string):\n",
    "    bit_str= ''.join(format(ord(ch), '08b') for ch in string) # ord(ch) is to convert to ASCII value \n",
    "    return bit_str\n",
    "\n",
    "def int_to_binary(int):\n",
    "    return format(int,'08b')\n",
    "\n",
    "def binary_to_int(bin_string):\n",
    "    return int(bin_string,2)"
   ]
  },
  {
   "cell_type": "code",
   "execution_count": 3,
   "metadata": {},
   "outputs": [],
   "source": [
    "def encode():\n",
    "    \n",
    "    host_image_name = input(\"Enter the name of the image which is to be encoded: \")\n",
    "    host_image = cv2.imread(host_image_name)\n",
    "    hiding_image_name = input(\"Enter the name of image to be hidden: \")\n",
    "    hiding_image = cv2.imread(hiding_image_name)\n",
    "    \n",
    "    rows,columns,layers = host_image.shape\n",
    "    rows_h,columns_h,layers_h = hiding_image.shape\n",
    "    \n",
    "    host_image = host_image.reshape(rows*columns*layers,1)\n",
    "    print(\"New shape of host image is: \",host_image.shape)\n",
    "    hiding_image = hiding_image.reshape(rows_h*columns_h*layers_h,1)\n",
    "    print(\"New shape of hiding image: \",hiding_image.shape)\n",
    "        \n",
    "    encoded_image = host_image.copy()\n",
    "    hidding_pixel = rows_h*columns_h*layers_h\n",
    "    host_pixel = 0\n",
    "\n",
    "    start_time = time.time()\n",
    "    \n",
    "    for i in range(hidding_pixel):\n",
    "\n",
    "        binary_hiding_pixel = int_to_binary(hiding_image[i,0])\n",
    "\n",
    "        for k in range(8):\n",
    "            binary_host_pixel = int_to_binary(host_image[host_pixel,0])\n",
    "            binary_NEW_pixel = binary_host_pixel[:-1] + binary_hiding_pixel[k]\n",
    "            encoded_image[host_pixel,0] = binary_to_int(binary_NEW_pixel)\n",
    "            k += 1\n",
    "            host_pixel += 1\n",
    "\n",
    "    end_time = time.time()        \n",
    "    print(\"Execution time is: \",end_time-start_time)      \n",
    "    \n",
    "    encoded_image = encoded_image.reshape(rows,columns,layers)          \n",
    "    enocoded_image_name = input(\"Enter a name to be given to encoded image: \")\n",
    "    status = cv2.imwrite(enocoded_image_name,encoded_image)\n",
    "    print(\"Image written to file-system : \",status)\n",
    "    print(\"Encoded image is saved with the name\", enocoded_image_name)"
   ]
  },
  {
   "cell_type": "code",
   "execution_count": null,
   "metadata": {},
   "outputs": [],
   "source": [
    "def decode():\n",
    "    \n",
    "    d_image_name = input(\"Enter the name of the image to be decoded: \")\n",
    "    d_image = cv2.imread(d_image_name)\n",
    "    \n",
    "    rows_d,columns_d,layers_d = d_image.shape\n",
    "    d_image = d_image.reshape(rows_d*columns_d*layers_d,1)\n",
    "    \n",
    "    C = int(input(\"Enter the number of columns in the hiding image\"))\n",
    "    R = int((rows_d*columns_d)/(C*8))\n",
    "    \n",
    "    hiding_image = np.random.rand(R*C*3,1)\n",
    "    \n",
    "    n = rows_d*columns_d*layers_d\n",
    "    binary_hidden_pixel = ''\n",
    "    w = 1\n",
    "    h = 0\n",
    "\n",
    "    start_time = time.time()\n",
    "    for i in range(n):\n",
    "\n",
    "        binary_d_pixel = int_to_binary(d_image[i,0])\n",
    "        binary_hidden_pixel += binary_d_pixel[7]\n",
    "        \n",
    "        if (w%8==0):\n",
    "            hidden_pixel = binary_to_int(binary_pixel)\n",
    "            binary_pixel = ''\n",
    "            hiding_image[h] = hidden_pixel\n",
    "            j += 1\n",
    "\n",
    "        w += 1\n",
    "    end_time = time.time()\n",
    "    print(\"Execution time is: \",end_time-start_time)\n",
    "    hiding_image = hiding_image.reshape(R,C,3)\n",
    "    hiding_image_name = input(\"Enter the name to be given to recovered image:\")\n",
    "    status = cv2.imwrite(hiding_image_name,hiding_image)\n",
    "    print(\"Image written to file-system : \",status)\n",
    "    print(\"Encoded image is saved with the name\", hiding_image_name)"
   ]
  },
  {
   "cell_type": "code",
   "execution_count": null,
   "metadata": {},
   "outputs": [],
   "source": [
    "print(\"choose the image processing option:\")\n",
    "print(\"    1. Encode an image\")\n",
    "print(\"    2. Decode an image\")\n",
    "print(\"    3. exit\")\n",
    "choice = input(\"Enter your choice: \")\n",
    "\n",
    "if (choice == '1'):\n",
    "    encode()\n",
    " \n",
    "elif (choice=='2'):\n",
    "    decode()\n",
    "elif (choice=='3'):\n",
    "    exit()\n",
    "else:\n",
    "    print(\"Please enter valid option\")"
   ]
  },
  {
   "cell_type": "code",
   "execution_count": null,
   "metadata": {},
   "outputs": [],
   "source": [
    "image1 = cv2.imread(\"photo1.jpg\")\n",
    "image2 = cv2.imread(\"image1_dd.png\")\n",
    "image3 = cv2.imread(\"my_photo.png\")\n",
    "image4 = cv2.imread(\"image1_d.png\")\n",
    "difference = image1 - image2\n",
    "sum = np.sum(difference)\n",
    "print(sum)\n",
    "difference2 = image3 - image4\n",
    "print(np.sum(difference2))"
   ]
  }
 ],
 "metadata": {
  "kernelspec": {
   "display_name": "Python 3.11.0 64-bit",
   "language": "python",
   "name": "python3"
  },
  "language_info": {
   "codemirror_mode": {
    "name": "ipython",
    "version": 3
   },
   "file_extension": ".py",
   "mimetype": "text/x-python",
   "name": "python",
   "nbconvert_exporter": "python",
   "pygments_lexer": "ipython3",
   "version": "3.11.0"
  },
  "orig_nbformat": 4,
  "vscode": {
   "interpreter": {
    "hash": "5238573367df39f7286bb46f9ff5f08f63a01a80960060ce41e3c79b190280fa"
   }
  }
 },
 "nbformat": 4,
 "nbformat_minor": 2
}
